{
  "nbformat": 4,
  "nbformat_minor": 0,
  "metadata": {
    "colab": {
      "name": "Untitled2.ipynb",
      "provenance": [],
      "include_colab_link": true
    },
    "kernelspec": {
      "name": "python3",
      "display_name": "Python 3"
    }
  },
  "cells": [
    {
      "cell_type": "markdown",
      "metadata": {
        "id": "view-in-github",
        "colab_type": "text"
      },
      "source": [
        "<a href=\"https://colab.research.google.com/github/proevgenii/GIS-2020/blob/main/Untitled2.ipynb\" target=\"_parent\"><img src=\"https://colab.research.google.com/assets/colab-badge.svg\" alt=\"Open In Colab\"/></a>"
      ]
    },
    {
      "cell_type": "markdown",
      "metadata": {
        "id": "h6ngKT4UiMNt"
      },
      "source": [
        "Решение задачи классификации транспортных средств по типам (грузовой/легковой) и определения стиля вождения (агрессивный/спокойный)"
      ]
    },
    {
      "cell_type": "markdown",
      "metadata": {
        "id": "1fUZpYkqfdEe"
      },
      "source": [
        "Нахождение максимального объема топлива для каждого транспортного средства"
      ]
    },
    {
      "cell_type": "code",
      "metadata": {
        "id": "u0WRVgFvdqp3",
        "outputId": "220cb1cb-0e0d-415e-f2b7-36deb196ccc9",
        "colab": {
          "base_uri": "https://localhost:8080/",
          "height": 34
        }
      },
      "source": [
        "import pandas as pd\n",
        "from pandas import Series\n",
        "\n",
        "vehicle1_fuel = pd.read_csv('vehicle1_fuelLevel_public.csv',  header=0, delimiter=';',decimal=',')\n",
        "vehicle1_fuel = vehicle1_fuel.loc[vehicle1_fuel[\"BEVALUE\"] > 0]\n",
        "vehicle1_fuel[\"BEVALUE\"].max()\n",
        "\n",
        "vehicle3_fuel = pd.read_csv('vehicle3_fuelLevel_public.csv',  header=0, delimiter=';',decimal=',')\n",
        "vehicle3_fuel = vehicle3_fuel.loc[vehicle3_fuel[\"BEVALUE\"] > 0]\n",
        "vehicle3_fuel[\"BEVALUE\"].max()\n",
        "\n",
        "vehicle5_fuel = pd.read_csv('vehicle5_fuelLevel_public.csv', header=0, delimiter=';',decimal=',')\n",
        "vehicle5_fuel = vehicle5_fuel.loc[vehicle5_fuel[\"BEVALUE\"] > 0]\n",
        "vehicle5_fuel[\"BEVALUE\"].max()\n",
        "\n",
        "vehicle19_fuel = pd.read_csv('vehicle19_fuelLevel_public.csv', header=0, delimiter=';',decimal=',')\n",
        "vehicle19_fuel = vehicle19_fuel.loc[vehicle19_fuel[\"BEVALUE\"] > 0]\n",
        "vehicle19_fuel[\"BEVALUE\"].max()\n",
        "\n",
        "vehicle28_fuel = pd.read_csv('vehicle28_fuelLevel_public.csv', header=0, delimiter=';',decimal=',')\n",
        "vehicle28_fuel = vehicle28_fuel.loc[vehicle28_fuel[\"BEVALUE\"] > 0]\n",
        "vehicle28_fuel[\"BEVALUE\"].max()\n"
      ],
      "execution_count": null,
      "outputs": [
        {
          "output_type": "execute_result",
          "data": {
            "text/plain": [
              "60.0"
            ]
          },
          "metadata": {
            "tags": []
          },
          "execution_count": 2
        }
      ]
    },
    {
      "cell_type": "markdown",
      "metadata": {
        "id": "FwwDaht3huXu"
      },
      "source": [
        ""
      ]
    },
    {
      "cell_type": "code",
      "metadata": {
        "id": "OYv5S-sqf6HV",
        "outputId": "b0030c60-6522-460f-b424-6c0783a6dbf8",
        "colab": {
          "base_uri": "https://localhost:8080/",
          "height": 34
        }
      },
      "source": [
        " \n",
        "vehicle1_tachometer = pd.read_csv(\"vehicle1_tachometer_public.csv\",  header=0, delimiter=';',decimal=',')\n",
        "vehicle1_tachometer = vehicle1_tachometer.loc[vehicle1_tachometer[\"BEVALUE\"] > 0]\n",
        "vehicle1_tachometer[\"BEVALUE\"].max()\n",
        "vehicle1_tachometer[\"BEVALUE\"].mean()\n",
        " \n",
        "vehicle3_tachometer = pd.read_csv(\"vehicle3_tachometer_public.csv\",  header=0, delimiter=';',decimal=',')\n",
        "vehicle3_tachometer = vehicle3_tachometer.loc[vehicle3_tachometer[\"BEVALUE\"] > 0]\n",
        "vehicle3_tachometer[\"BEVALUE\"].max()\n",
        "vehicle3_tachometer[\"BEVALUE\"].mean()\n",
        " \n",
        "vehicle5_tachometer = pd.read_csv(\"vehicle5_tachometer_public.csv\", header=0, delimiter=';',decimal=',')\n",
        "vehicle5_tachometer = vehicle5_tachometer.loc[vehicle5_tachometer[\"BEVALUE\"] > 0]\n",
        "vehicle5_tachometer[\"BEVALUE\"].max()\n",
        "vehicle5_tachometer[\"BEVALUE\"].mean()\n",
        " \n",
        "vehicle19_tachometer = pd.read_csv(\"vehicle19_tachometer_public.csv\", header=0, delimiter=';',decimal=',')\n",
        "vehicle19_tachometer = vehicle19_tachometer.loc[vehicle19_tachometer[\"BEVALUE\"] > 0]\n",
        "vehicle19_tachometer[\"BEVALUE\"].max()\n",
        "vehicle19_tachometer[\"BEVALUE\"].mean()\n",
        " \n",
        "vehicle28_tachometer = pd.read_csv(\"vehicle28_tachometer_public.csv\",  header=0, delimiter=';',decimal=',')\n",
        "vehicle28_tachometer = vehicle28_tachometer.loc[vehicle28_tachometer[\"BEVALUE\"] > 0]\n",
        "vehicle28_tachometer[\"BEVALUE\"].max()\n",
        "vehicle28_tachometer[\"BEVALUE\"].mean()"
      ],
      "execution_count": null,
      "outputs": [
        {
          "output_type": "execute_result",
          "data": {
            "text/plain": [
              "2457.522518800099"
            ]
          },
          "metadata": {
            "tags": []
          },
          "execution_count": 4
        }
      ]
    },
    {
      "cell_type": "markdown",
      "metadata": {
        "id": "kOz7u7dGf62C"
      },
      "source": [
        "#создаем серию тахометра\n"
      ]
    },
    {
      "cell_type": "code",
      "metadata": {
        "id": "1zMKzgGff7L4"
      },
      "source": [
        "\n",
        "tachometer = pd.Series([int(vehicle1_tachometer[\"BEVALUE\"].max()),int(\n",
        "                        vehicle3_tachometer[\"BEVALUE\"].max()),int(\n",
        "                        vehicle5_tachometer[\"BEVALUE\"].max()),int(\n",
        "                        vehicle19_tachometer[\"BEVALUE\"].max()),int(\n",
        "                        vehicle28_tachometer[\"BEVALUE\"].max())])\n",
        "tachometer.index = ['vehicle1','vehicle3','vehicle5','vehicle19','vehicle28']"
      ],
      "execution_count": null,
      "outputs": []
    },
    {
      "cell_type": "markdown",
      "metadata": {
        "id": "DFxSf4raf7ZZ"
      },
      "source": [
        "#создаем серию макс топливо"
      ]
    },
    {
      "cell_type": "code",
      "metadata": {
        "id": "_CQuVGddf7kB"
      },
      "source": [
        "fuel = pd.Series([int(vehicle1_fuel[\"BEVALUE\"].max()),\n",
        "                  int(vehicle3_fuel[\"BEVALUE\"].max()),\n",
        "                  int(vehicle5_fuel[\"BEVALUE\"].max()),\n",
        "                  int(vehicle19_fuel[\"BEVALUE\"].max()),\n",
        "                  int(vehicle28_fuel[\"BEVALUE\"].max())])\n",
        "fuel.index = ['vehicle1','vehicle3','vehicle5','vehicle19','vehicle28']\n",
        "type_ts = pd.DataFrame({\"max.tachometer\" : tachometer,\"max.fuel\" : fuel})"
      ],
      "execution_count": null,
      "outputs": []
    },
    {
      "cell_type": "markdown",
      "metadata": {
        "id": "xGQwBIy3f7vJ"
      },
      "source": [
        "# классифицируем ТС"
      ]
    },
    {
      "cell_type": "code",
      "metadata": {
        "id": "voYXvGoBf74K"
      },
      "source": [
        "benzin = []\n",
        "for i in range (len(tachometer)):\n",
        "                           if tachometer[i] > 3000:\n",
        "                               benzin.append(1)\n",
        "                           else:\n",
        "                               benzin.append(0)\n",
        "benzin = pd.Series(benzin)\n",
        "benzin.index = ['vehicle1','vehicle3','vehicle5','vehicle19','vehicle28']"
      ],
      "execution_count": null,
      "outputs": []
    },
    {
      "cell_type": "markdown",
      "metadata": {
        "id": "--j6Iqyyf8Bz"
      },
      "source": [
        "#определяем стиль вождения"
      ]
    },
    {
      "cell_type": "code",
      "metadata": {
        "id": "QkOAfacZf8LL"
      },
      "source": [
        "style = pd.Series([float(vehicle1_tachometer[\"BEVALUE\"].mean()/vehicle1_tachometer[\"BEVALUE\"].max()),\n",
        "float(vehicle3_tachometer[\"BEVALUE\"].mean()/vehicle3_tachometer[\"BEVALUE\"].max()),\n",
        "float(vehicle5_tachometer[\"BEVALUE\"].mean()/vehicle5_tachometer[\"BEVALUE\"].max()),\n",
        "float(vehicle19_tachometer[\"BEVALUE\"].mean()/vehicle19_tachometer[\"BEVALUE\"].max()),\n",
        "float(vehicle28_tachometer[\"BEVALUE\"].mean()/vehicle28_tachometer[\"BEVALUE\"].max())],\n",
        "                  index = ['vehicle1','vehicle3','vehicle5','vehicle19','vehicle28'])"
      ],
      "execution_count": null,
      "outputs": []
    },
    {
      "cell_type": "markdown",
      "metadata": {
        "id": "HlsYrtSChk2k"
      },
      "source": [
        "#агрессивный водитель"
      ]
    },
    {
      "cell_type": "code",
      "metadata": {
        "id": "aR9228ZahlCC"
      },
      "source": [
        "\n",
        "style_spisok = []\n",
        "for i in range (len(style)):\n",
        "                           if style[i] > 0.68:\n",
        "                               style_spisok.append(1)\n",
        "                           else:\n",
        "                               style_spisok.append(0)\n",
        "style_spisok = pd.Series(style_spisok,index = ['vehicle1','vehicle3','vehicle5','vehicle19','vehicle28'])"
      ],
      "execution_count": null,
      "outputs": []
    },
    {
      "cell_type": "markdown",
      "metadata": {
        "id": "i5iAhz0Yhyxn"
      },
      "source": [
        "#агрессивный водитель и тип тс"
      ]
    },
    {
      "cell_type": "code",
      "metadata": {
        "id": "29QZQtCihyGW",
        "outputId": "20544251-61eb-43c9-9457-8e1b8341943d",
        "colab": {
          "base_uri": "https://localhost:8080/",
          "height": 187
        }
      },
      "source": [
        "a = pd.DataFrame({\"type_ts\" : benzin,\"style\" : style_spisok})\n",
        "print (a)\n",
        "\n",
        "print (\"Для определения типа тс и стиля вождения вставь путь к файлу строчка 98 и нажмите enter\")\n",
        "input()\n",
        "tachometer1 = []\n",
        "style_spisok = []\n",
        "vehicleN_tachometer = pd.read_csv(\"vehicle19_tachometer_public.csv\",  header=0, delimiter=';',decimal=',')\n",
        "vehicleN_tachometer = vehicleN_tachometer.loc[vehicleN_tachometer[\"BEVALUE\"] > 0]\n",
        "if int(vehicleN_tachometer[\"BEVALUE\"].max()) > 3000:\n",
        "    tachometer1.append(1)\n",
        "else:\n",
        "    tachometer1.append(1)\n",
        "if (int(vehicleN_tachometer[\"BEVALUE\"].mean()))/(int(vehicleN_tachometer[\"BEVALUE\"].max())) > 0.68:\n",
        "    style_spisok.append(1)\n",
        "else:\n",
        "    style_spisok.append(0)\n",
        "a = pd.DataFrame({\"type_ts\" : tachometer1,\"style\" : style_spisok})\n",
        "print (a)"
      ],
      "execution_count": null,
      "outputs": [
        {
          "output_type": "stream",
          "text": [
            "           type_ts  style\n",
            "vehicle1         1      0\n",
            "vehicle3         0      0\n",
            "vehicle5         1      0\n",
            "vehicle19        0      1\n",
            "vehicle28        1      0\n",
            "Для определения типа тс и стиля вождения вставь путь к файлу строчка 98 и нажмите enter\n",
            "\n",
            "   type_ts  style\n",
            "0        1      1\n"
          ],
          "name": "stdout"
        }
      ]
    },
    {
      "cell_type": "markdown",
      "metadata": {
        "id": "0LDU-FKejugj"
      },
      "source": [
        "Задача 3,4. Режимы перевозки грузов \n",
        "Мы взяли таблицу режим зажигания и таблица уровень топлива. Объединяем таблицу по времени. С помощью цикла, записываем список отрезков времени с включенным зажиганием. Находим дельту конечного и начального уровня топлива за каждый отрезок. Находим средний расход за этот отрезок, разделив дельту топлива за промежуток на время промежутка. "
      ]
    },
    {
      "cell_type": "code",
      "metadata": {
        "id": "cDgoQyBDk3ZI",
        "outputId": "c5449fcc-b87f-4ede-ec24-b39e59814b57",
        "colab": {
          "base_uri": "https://localhost:8080/",
          "height": 272
        }
      },
      "source": [
        "import matplotlib.pyplot as plt\n",
        "import seaborn as sns\n",
        "import pandas as pd\n",
        "\n",
        "%matplotlib inline\n",
        "\n",
        "ser=[]\n",
        "a=pd.read_csv('vehicle1_fuelLevel_public.csv', header=0, delimiter=';',decimal=',')\n",
        "speed=pd.read_csv('vehicle1_speedAndHeight_public.csv', header=0, delimiter=';',decimal=',')\n",
        "ingection=pd.read_csv('vehicle1_ingection_public.csv', header=0, delimiter=';',decimal=',')\n",
        "a['DTIME']=pd.to_datetime(a['DTIME'])\n",
        "speed['DTIME']=pd.to_datetime(speed['DTIME'])\n",
        "ingection['DTIME']=pd.to_datetime(ingection['DTIME'])\n",
        "\n",
        "b=pd.merge(ingection, a, on='DTIME', how='left')\n",
        "\n",
        "b.index=b['DTIME']\n",
        "#b=b.dropna() # исключаем строки с NAN\n",
        "b['BEVALUE_x']=b['BEVALUE_x'].astype(float)\n",
        "b['BEVALUE_y']=b['BEVALUE_y'].astype(float)\n",
        "#b=b[(b['BEVALUE_x']>0)|(b['BEVALUE_y']>0)] \n",
        "\n",
        "#print(b)\n",
        "#RASCHET RASHODA\n",
        "\n",
        "pred=0\n",
        "for i in range(len(b)):\n",
        "  if b['BEVALUE_x'][i]==1 and pred==0:\n",
        "    data_start=b['DTIME'][i]\n",
        "    fuel_start=b['BEVALUE_y'][i]\n",
        "\n",
        "  elif b['BEVALUE_x'][i]==0 and pred==1:\n",
        "    data_end=b['DTIME'][i]\n",
        "    fuel_end=b['BEVALUE_y'][i]\n",
        "    d=(data_end-data_start).seconds\n",
        "    R=(fuel_start-fuel_end)/d\n",
        "    ser.append(R)\n",
        "  pred=b['BEVALUE_x'][i]\n",
        "ser=pd.DataFrame(ser)\n",
        "\n",
        "print(ser.dropna())"
      ],
      "execution_count": null,
      "outputs": [
        {
          "output_type": "stream",
          "text": [
            "            0\n",
            "9    0.466116\n",
            "12   0.000000\n",
            "13   0.001575\n",
            "20   0.000000\n",
            "59   0.000626\n",
            "97   0.000440\n",
            "98   0.007165\n",
            "104  0.000455\n",
            "138  0.000000\n",
            "199  0.000000\n",
            "241  0.000000\n",
            "258  0.000000\n",
            "270  0.000000\n",
            "282  0.001218\n"
          ],
          "name": "stdout"
        }
      ]
    },
    {
      "cell_type": "markdown",
      "metadata": {
        "id": "3Hoj4a5WlK3W"
      },
      "source": [
        "Проводим эту операцию для каждого ТС. Для каждой таблицы расходов ТС находим ср.знач расхода топлива. Далее сравниваем таблицу расходов ТС с среднем значением, где уровень выше среднего машина маркируется 1, где равно или ниже 0. В итоге мы получим таблицу с подозрением на увеличивающийся расход топлива / слив топлива "
      ]
    },
    {
      "cell_type": "code",
      "metadata": {
        "id": "Z43GjDiTl1rW"
      },
      "source": [
        ""
      ],
      "execution_count": null,
      "outputs": []
    },
    {
      "cell_type": "markdown",
      "metadata": {
        "id": "w_Ej-nqcmZrP"
      },
      "source": [
        "Задача 1,2. Берем таблицу с уровнем топлива и индикатор включенного двигателя, объединяем по времени. Далее находим разницу уровня топлива перед остановкой двигателя и после запуска, если разница составляет  более +/- 10 литров, то это подозрение на слив или заправку топлива.  "
      ]
    }
  ]
}